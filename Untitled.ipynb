{
 "cells": [
  {
   "cell_type": "markdown",
   "metadata": {},
   "source": [
    "# Importing all dependencies"
   ]
  },
  {
   "cell_type": "code",
   "execution_count": 2,
   "metadata": {},
   "outputs": [],
   "source": [
    "import chardet\n",
    "import pandas as pd\n",
    "import numpy as np\n",
    "import csv\n",
    "from forex_python.converter import CurrencyRates"
   ]
  },
  {
   "cell_type": "markdown",
   "metadata": {},
   "source": [
    "# Importing and connecting Arkouda"
   ]
  },
  {
   "cell_type": "code",
   "execution_count": 3,
   "metadata": {},
   "outputs": [
    {
     "name": "stdout",
     "output_type": "stream",
     "text": [
      "    _         _                   _       \n",
      "   / \\   _ __| | _____  _   _  __| | __ _ \n",
      "  / _ \\ | '__| |/ / _ \\| | | |/ _` |/ _` |\n",
      " / ___ \\| |  |   < (_) | |_| | (_| | (_| |\n",
      "/_/   \\_\\_|  |_|\\_\\___/ \\__,_|\\__,_|\\__,_|\n",
      "                                          \n",
      "\n",
      "Client Version: v2021.10.07+2.g1fd7670.dirty\n"
     ]
    }
   ],
   "source": [
    "import arkouda as ak"
   ]
  },
  {
   "cell_type": "code",
   "execution_count": 4,
   "metadata": {},
   "outputs": [
    {
     "name": "stderr",
     "output_type": "stream",
     "text": [
      "/Users/narenkhatwani/Documents/GitHub/arkouda/arkouda/client.py:146: RuntimeWarning: Version mismatch between client (v2021.10.07+2.g1fd7670.dirty) and server (v2021.08.20+18.g7a657ad); this may cause some commands to fail or behave incorrectly! Updating arkouda is strongly recommended.\n",
      "  warnings.warn(('Version mismatch between client ({}) and server ({}); ' +\n",
      "connected to arkouda server tcp://*:5555\n"
     ]
    }
   ],
   "source": [
    "ak.connect(connect_url='tcp://MacBook-Pro-7.local:5555 ') #connecting to arkouda server"
   ]
  },
  {
   "cell_type": "markdown",
   "metadata": {},
   "source": [
    "# 1. Read the Data"
   ]
  },
  {
   "cell_type": "code",
   "execution_count": 5,
   "metadata": {},
   "outputs": [
    {
     "name": "stdout",
     "output_type": "stream",
     "text": [
      "adm0_id,adm0_name,adm1_id,adm1_name,mkt_id,mkt_name,cm_id,cm_name,cur_id,cur_name,pt_id,pt_name,um_id,um_name,mp_month,mp_year,mp_price,mp_commoditysource\r\n",
      "1,Afghanistan,272,Badakhshan,266,Fayzabad,55,Bread,87,AFN,15,Retail,5,KG,1,2014,50.0,WFP\r\n",
      "1,Afghanistan,272,Badakhshan,266,Fayzabad,55,Bread,87,AFN,15,Retail,5,KG,2,2014,50.0,WFP\r\n",
      "1,Afghanistan,272,Badakhshan,266,Fayzabad,55,Bread,87,AFN,15,Retail,5,KG,3,2014,50.0,WFP\r\n",
      "1,Afghanistan,272,Badakhshan,266,Fayzabad,55,Bread,87,AFN,15,Retail,5,KG,4,2014,50.0,WFP\r\n",
      "1,Afghanistan,272,Badakhshan,266,Fayzabad,55,Bread,87,AFN,15,Retail,5,KG,5,2014,50.0,WFP\r\n",
      "1,Afghanistan,272,Badakhshan,266,Fayzabad,55,Bread,87,AFN,15,Retail,5,KG,6,2014,50.0,WFP\r\n",
      "1,Afghanistan,272,Badakhshan,266,Fayzabad,55,Bread,87,AFN,15,Retail,5,KG,7,2014,50.0,WFP\r\n",
      "1,Afghanistan,272,Badakhshan,266,Fayzabad,55,Bread,87,AFN,15,Retail,5,KG,8,2014,50.0,WFP\r\n",
      "1,Afghanistan,272,Badakhshan,266,Fayzabad,55,Bread,87,AFN,15,Retail,5,KG,9,2014,50.0,WFP\r\n"
     ]
    }
   ],
   "source": [
    "#Printing the first few values from the DataSet\n",
    "!head /Users/narenkhatwani/Desktop/Resources/CSV_files/wfp_market_food_prices.csv"
   ]
  },
  {
   "cell_type": "code",
   "execution_count": 6,
   "metadata": {},
   "outputs": [
    {
     "data": {
      "text/plain": [
       "{'encoding': 'ascii', 'confidence': 1.0, 'language': ''}"
      ]
     },
     "execution_count": 6,
     "metadata": {},
     "output_type": "execute_result"
    }
   ],
   "source": [
    "#Checking the encoding of the csv file, resolved the partial encoding error\n",
    "with open(\"/Users/narenkhatwani/Desktop/Resources/CSV_files/wfp_market_food_prices.csv\", 'rb') as rawdata:\n",
    "    result = chardet.detect(rawdata.read(100000))\n",
    "result"
   ]
  },
  {
   "cell_type": "markdown",
   "metadata": {},
   "source": [
    "## Column Name Descriptions\n",
    "1. adm0_id: country id\n",
    "2. adm0_name: country name\n",
    "3. adm1_id: locality id\n",
    "4. adm1_name: locality name\n",
    "5. mkt_id: market id\n",
    "6. mkt_name: market name\n",
    "7. cm_id: commodity purchase id\n",
    "8. cm_name: commodity purchased\n",
    "9. cur_id: currency id\n",
    "10. cur_name: name of currency\n",
    "11. pt_id: market type id\n",
    "12. pt_name: market type (Retail/Wholesale/Producer/Farm Gate)\n",
    "13. um_id: measurement id\n",
    "14. um_name: unit of goods measurement\n",
    "15. mp_month: month recorded\n",
    "16. mpyear: year recorded *mpprice: price paid\n",
    "17. mp_commoditysource: Source supplying price information"
   ]
  },
  {
   "cell_type": "code",
   "execution_count": 7,
   "metadata": {},
   "outputs": [
    {
     "name": "stderr",
     "output_type": "stream",
     "text": [
      "/Users/narenkhatwani/opt/anaconda3/lib/python3.8/site-packages/IPython/core/interactiveshell.py:3071: DtypeWarning: Columns (3) have mixed types.Specify dtype option on import or set low_memory=False.\n",
      "  has_raised = await self.run_ast_nodes(code_ast.body, cell_name,\n"
     ]
    },
    {
     "data": {
      "text/html": [
       "<div>\n",
       "<style scoped>\n",
       "    .dataframe tbody tr th:only-of-type {\n",
       "        vertical-align: middle;\n",
       "    }\n",
       "\n",
       "    .dataframe tbody tr th {\n",
       "        vertical-align: top;\n",
       "    }\n",
       "\n",
       "    .dataframe thead th {\n",
       "        text-align: right;\n",
       "    }\n",
       "</style>\n",
       "<table border=\"1\" class=\"dataframe\">\n",
       "  <thead>\n",
       "    <tr style=\"text-align: right;\">\n",
       "      <th></th>\n",
       "      <th>adm0_id</th>\n",
       "      <th>adm0_name</th>\n",
       "      <th>adm1_id</th>\n",
       "      <th>adm1_name</th>\n",
       "      <th>mkt_id</th>\n",
       "      <th>mkt_name</th>\n",
       "      <th>cm_id</th>\n",
       "      <th>cm_name</th>\n",
       "      <th>cur_id</th>\n",
       "      <th>cur_name</th>\n",
       "      <th>pt_id</th>\n",
       "      <th>pt_name</th>\n",
       "      <th>um_id</th>\n",
       "      <th>um_name</th>\n",
       "      <th>mp_month</th>\n",
       "      <th>mp_year</th>\n",
       "      <th>mp_price</th>\n",
       "      <th>mp_commoditysource</th>\n",
       "    </tr>\n",
       "  </thead>\n",
       "  <tbody>\n",
       "    <tr>\n",
       "      <th>0</th>\n",
       "      <td>1</td>\n",
       "      <td>Afghanistan</td>\n",
       "      <td>272</td>\n",
       "      <td>Badakhshan</td>\n",
       "      <td>266</td>\n",
       "      <td>Fayzabad</td>\n",
       "      <td>55</td>\n",
       "      <td>Bread - Retail</td>\n",
       "      <td>0</td>\n",
       "      <td>AFN</td>\n",
       "      <td>15</td>\n",
       "      <td>Retail</td>\n",
       "      <td>5</td>\n",
       "      <td>KG</td>\n",
       "      <td>1</td>\n",
       "      <td>2014</td>\n",
       "      <td>50.0</td>\n",
       "      <td>NaN</td>\n",
       "    </tr>\n",
       "    <tr>\n",
       "      <th>1</th>\n",
       "      <td>1</td>\n",
       "      <td>Afghanistan</td>\n",
       "      <td>272</td>\n",
       "      <td>Badakhshan</td>\n",
       "      <td>266</td>\n",
       "      <td>Fayzabad</td>\n",
       "      <td>55</td>\n",
       "      <td>Bread - Retail</td>\n",
       "      <td>0</td>\n",
       "      <td>AFN</td>\n",
       "      <td>15</td>\n",
       "      <td>Retail</td>\n",
       "      <td>5</td>\n",
       "      <td>KG</td>\n",
       "      <td>2</td>\n",
       "      <td>2014</td>\n",
       "      <td>50.0</td>\n",
       "      <td>NaN</td>\n",
       "    </tr>\n",
       "    <tr>\n",
       "      <th>2</th>\n",
       "      <td>1</td>\n",
       "      <td>Afghanistan</td>\n",
       "      <td>272</td>\n",
       "      <td>Badakhshan</td>\n",
       "      <td>266</td>\n",
       "      <td>Fayzabad</td>\n",
       "      <td>55</td>\n",
       "      <td>Bread - Retail</td>\n",
       "      <td>0</td>\n",
       "      <td>AFN</td>\n",
       "      <td>15</td>\n",
       "      <td>Retail</td>\n",
       "      <td>5</td>\n",
       "      <td>KG</td>\n",
       "      <td>3</td>\n",
       "      <td>2014</td>\n",
       "      <td>50.0</td>\n",
       "      <td>NaN</td>\n",
       "    </tr>\n",
       "    <tr>\n",
       "      <th>3</th>\n",
       "      <td>1</td>\n",
       "      <td>Afghanistan</td>\n",
       "      <td>272</td>\n",
       "      <td>Badakhshan</td>\n",
       "      <td>266</td>\n",
       "      <td>Fayzabad</td>\n",
       "      <td>55</td>\n",
       "      <td>Bread - Retail</td>\n",
       "      <td>0</td>\n",
       "      <td>AFN</td>\n",
       "      <td>15</td>\n",
       "      <td>Retail</td>\n",
       "      <td>5</td>\n",
       "      <td>KG</td>\n",
       "      <td>4</td>\n",
       "      <td>2014</td>\n",
       "      <td>50.0</td>\n",
       "      <td>NaN</td>\n",
       "    </tr>\n",
       "    <tr>\n",
       "      <th>4</th>\n",
       "      <td>1</td>\n",
       "      <td>Afghanistan</td>\n",
       "      <td>272</td>\n",
       "      <td>Badakhshan</td>\n",
       "      <td>266</td>\n",
       "      <td>Fayzabad</td>\n",
       "      <td>55</td>\n",
       "      <td>Bread - Retail</td>\n",
       "      <td>0</td>\n",
       "      <td>AFN</td>\n",
       "      <td>15</td>\n",
       "      <td>Retail</td>\n",
       "      <td>5</td>\n",
       "      <td>KG</td>\n",
       "      <td>5</td>\n",
       "      <td>2014</td>\n",
       "      <td>50.0</td>\n",
       "      <td>NaN</td>\n",
       "    </tr>\n",
       "  </tbody>\n",
       "</table>\n",
       "</div>"
      ],
      "text/plain": [
       "   adm0_id    adm0_name  adm1_id   adm1_name  mkt_id  mkt_name  cm_id  \\\n",
       "0        1  Afghanistan      272  Badakhshan     266  Fayzabad     55   \n",
       "1        1  Afghanistan      272  Badakhshan     266  Fayzabad     55   \n",
       "2        1  Afghanistan      272  Badakhshan     266  Fayzabad     55   \n",
       "3        1  Afghanistan      272  Badakhshan     266  Fayzabad     55   \n",
       "4        1  Afghanistan      272  Badakhshan     266  Fayzabad     55   \n",
       "\n",
       "          cm_name  cur_id cur_name  pt_id pt_name  um_id um_name  mp_month  \\\n",
       "0  Bread - Retail       0      AFN     15  Retail      5      KG         1   \n",
       "1  Bread - Retail       0      AFN     15  Retail      5      KG         2   \n",
       "2  Bread - Retail       0      AFN     15  Retail      5      KG         3   \n",
       "3  Bread - Retail       0      AFN     15  Retail      5      KG         4   \n",
       "4  Bread - Retail       0      AFN     15  Retail      5      KG         5   \n",
       "\n",
       "   mp_year  mp_price  mp_commoditysource  \n",
       "0     2014      50.0                 NaN  \n",
       "1     2014      50.0                 NaN  \n",
       "2     2014      50.0                 NaN  \n",
       "3     2014      50.0                 NaN  \n",
       "4     2014      50.0                 NaN  "
      ]
     },
     "execution_count": 7,
     "metadata": {},
     "output_type": "execute_result"
    }
   ],
   "source": [
    "#Reading the csv file and creating a dataframe\n",
    "df=pd.read_csv(\"/Users/narenkhatwani/Desktop/Resources/CSV_files/utf8/wfpvam_foodprices_utf8.csv\")\n",
    "\n",
    "#displaying the top 5 rows for testing\n",
    "df.head(5)"
   ]
  },
  {
   "cell_type": "markdown",
   "metadata": {},
   "source": [
    "#### In order to read the csv stating a specific encoding we can use the encoding parameter"
   ]
  },
  {
   "cell_type": "code",
   "execution_count": 8,
   "metadata": {},
   "outputs": [],
   "source": [
    "#df=pd.read_csv(\"/Users/narenkhatwani/Documents/GitHub/arkouda/Notebooks/Resources/wfp_market_food_prices_utf8.csv,encoding='ascii')"
   ]
  },
  {
   "cell_type": "markdown",
   "metadata": {},
   "source": [
    "# 2. Cleaning the Data "
   ]
  },
  {
   "cell_type": "markdown",
   "metadata": {},
   "source": [
    "## 2.1 Convert the csv to hdf file using to_hdf method of Python (not recommended)"
   ]
  },
  {
   "cell_type": "code",
   "execution_count": 9,
   "metadata": {},
   "outputs": [
    {
     "name": "stderr",
     "output_type": "stream",
     "text": [
      "/Users/narenkhatwani/opt/anaconda3/lib/python3.8/site-packages/IPython/core/interactiveshell.py:3071: DtypeWarning: Columns (3) have mixed types.Specify dtype option on import or set low_memory=False.\n",
      "  has_raised = await self.run_ast_nodes(code_ast.body, cell_name,\n"
     ]
    }
   ],
   "source": [
    "df2=pd.read_csv(\"/Users/narenkhatwani/Desktop/Resources/CSV_files/utf8/wfpvam_foodprices_utf8.csv\")\n",
    "\n",
    "df2.to_hdf(\"/Users/narenkhatwani/Desktop/Resources/CSV_files/to_hdf/Food_prices_hdf5.h5\", 'data', mode='w', format='table')\n"
   ]
  },
  {
   "cell_type": "code",
   "execution_count": 10,
   "metadata": {},
   "outputs": [
    {
     "name": "stdout",
     "output_type": "stream",
     "text": [
      "   adm0_id    adm0_name  adm1_id   adm1_name  mkt_id  mkt_name  cm_id  \\\n",
      "0        1  Afghanistan      272  Badakhshan     266  Fayzabad     55   \n",
      "1        1  Afghanistan      272  Badakhshan     266  Fayzabad     55   \n",
      "2        1  Afghanistan      272  Badakhshan     266  Fayzabad     55   \n",
      "3        1  Afghanistan      272  Badakhshan     266  Fayzabad     55   \n",
      "4        1  Afghanistan      272  Badakhshan     266  Fayzabad     55   \n",
      "\n",
      "          cm_name  cur_id cur_name  pt_id pt_name  um_id um_name  mp_month  \\\n",
      "0  Bread - Retail       0      AFN     15  Retail      5      KG         1   \n",
      "1  Bread - Retail       0      AFN     15  Retail      5      KG         2   \n",
      "2  Bread - Retail       0      AFN     15  Retail      5      KG         3   \n",
      "3  Bread - Retail       0      AFN     15  Retail      5      KG         4   \n",
      "4  Bread - Retail       0      AFN     15  Retail      5      KG         5   \n",
      "\n",
      "   mp_year  mp_price  mp_commoditysource  \n",
      "0     2014      50.0                 NaN  \n",
      "1     2014      50.0                 NaN  \n",
      "2     2014      50.0                 NaN  \n",
      "3     2014      50.0                 NaN  \n",
      "4     2014      50.0                 NaN  \n"
     ]
    }
   ],
   "source": [
    "print(pd.read_hdf('/Users/narenkhatwani/Desktop/Resources/CSV_files/to_hdf/Food_prices_hdf5.h5', 'data').head(5))"
   ]
  },
  {
   "cell_type": "markdown",
   "metadata": {},
   "source": [
    "## 2.2 Conversion to .hdf5 using Pandas"
   ]
  },
  {
   "cell_type": "code",
   "execution_count": 11,
   "metadata": {},
   "outputs": [
    {
     "name": "stderr",
     "output_type": "stream",
     "text": [
      "/Users/narenkhatwani/opt/anaconda3/lib/python3.8/site-packages/IPython/core/interactiveshell.py:3071: DtypeWarning: Columns (3) have mixed types.Specify dtype option on import or set low_memory=False.\n",
      "  has_raised = await self.run_ast_nodes(code_ast.body, cell_name,\n"
     ]
    }
   ],
   "source": [
    "pdgreen = pd.read_csv('/Users/narenkhatwani/Desktop/Resources/CSV_files/utf8/wfpvam_foodprices_utf8.csv')\n",
    "# transfer columns of DataFrame to arkouda\n",
    "def ak_create_akdict_from_df(df):\n",
    "    akdict = {}\n",
    "    for cname in df.keys():\n",
    "        if df[cname].dtype.name == 'object':\n",
    "            akdict[cname] = ak.from_series(df[cname],dtype=np.str)\n",
    "        else:\n",
    "            akdict[cname] = ak.from_series(df[cname])\n",
    "\n",
    "    return akdict"
   ]
  },
  {
   "cell_type": "code",
   "execution_count": 12,
   "metadata": {},
   "outputs": [],
   "source": [
    "#Passing the dataframe through the converter function to procure hdf file\n",
    "green_from_pandas = ak_create_akdict_from_df(pdgreen)"
   ]
  },
  {
   "cell_type": "code",
   "execution_count": 13,
   "metadata": {},
   "outputs": [
    {
     "name": "stdout",
     "output_type": "stream",
     "text": [
      "{'adm0_id': array([1 1 1 ... 152 152 152]), 'adm0_name': array(['Afghanistan', 'Afghanistan', 'Afghanistan', ... , 'Malawi', 'Malawi', 'Malawi']), 'adm1_id': array([272 272 272 ... 1890 1890 1890]), 'adm1_name': array(['Badakhshan', 'Badakhshan', 'Badakhshan', ... , 'Southern Region', 'Southern Region', 'Southern Region']), 'mkt_id': array([266 266 266 ... 823 823 823]), 'mkt_name': array(['Fayzabad', 'Fayzabad', 'Fayzabad', ... , 'Thondwe', 'Thondwe', 'Thondwe']), 'cm_id': array([55 55 55 ... 51 51 51]), 'cm_name': array(['Bread - Retail', 'Bread - Retail', 'Bread - Retail', ... , 'Maize - Retail', 'Maize - Retail', 'Maize - Retail']), 'cur_id': array([0 0 0 ... 0 0 0]), 'cur_name': array(['AFN', 'AFN', 'AFN', ... , 'MWK', 'MWK', 'MWK']), 'pt_id': array([15 15 15 ... 15 15 15]), 'pt_name': array(['Retail', 'Retail', 'Retail', ... , 'Retail', 'Retail', 'Retail']), 'um_id': array([5 5 5 ... 5 5 5]), 'um_name': array(['KG', 'KG', 'KG', ... , 'KG', 'KG', 'KG']), 'mp_month': array([1 2 3 ... 12 1 7]), 'mp_year': array([2014 2014 2014 ... 2014 2015 2015]), 'mp_price': array([50 50 50 ... 74.329999999999998 81.349999999999994 111.48999999999999]), 'mp_commoditysource': array([nan nan nan ... nan nan nan])}\n"
     ]
    }
   ],
   "source": [
    "print(green_from_pandas)"
   ]
  },
  {
   "cell_type": "code",
   "execution_count": 14,
   "metadata": {},
   "outputs": [],
   "source": [
    "data_pandas_hdf_convert= green_from_pandas"
   ]
  },
  {
   "cell_type": "code",
   "execution_count": 15,
   "metadata": {},
   "outputs": [
    {
     "data": {
      "text/plain": [
       "array([1 1 1 ... 152 152 152])"
      ]
     },
     "execution_count": 15,
     "metadata": {},
     "output_type": "execute_result"
    }
   ],
   "source": [
    "data_pandas_hdf_convert['adm0_id']"
   ]
  },
  {
   "cell_type": "markdown",
   "metadata": {},
   "source": [
    "## 2.3 Conversion to .hdf5 using Arkouda"
   ]
  },
  {
   "cell_type": "markdown",
   "metadata": {},
   "source": [
    "### Handling Currency Conversion"
   ]
  },
  {
   "cell_type": "code",
   "execution_count": 16,
   "metadata": {},
   "outputs": [],
   "source": [
    "c = CurrencyRates()"
   ]
  },
  {
   "cell_type": "code",
   "execution_count": 17,
   "metadata": {},
   "outputs": [],
   "source": [
    "a_dict=c.get_rates('USD')"
   ]
  },
  {
   "cell_type": "code",
   "execution_count": 18,
   "metadata": {},
   "outputs": [
    {
     "data": {
      "text/plain": [
       "{'EUR': 0.8637816360024186,\n",
       " 'JPY': 113.0690161527166,\n",
       " 'BGN': 1.6893841236935303,\n",
       " 'CZK': 21.764705882352942,\n",
       " 'DKK': 6.424548674095189,\n",
       " 'GBP': 0.7374967608188651,\n",
       " 'HUF': 311.8165327805131,\n",
       " 'PLN': 3.967003541504708,\n",
       " 'RON': 4.273646022285567,\n",
       " 'SEK': 8.551006305605943,\n",
       " 'CHF': 0.9149175088537618,\n",
       " 'ISK': 129.91275805476377,\n",
       " 'NOK': 8.512999913621837,\n",
       " 'HRK': 6.494774121102186,\n",
       " 'RUB': 70.9292562840114,\n",
       " 'TRY': 9.726613112205236,\n",
       " 'AUD': 1.3511272350349832,\n",
       " 'BRL': 5.514986611384642,\n",
       " 'CAD': 1.2435864213526822,\n",
       " 'CNY': 6.391033946618295,\n",
       " 'HKD': 7.790101062451412,\n",
       " 'IDR': 14252.621577265267,\n",
       " 'INR': 74.10469033428349,\n",
       " 'KRW': 1176.8765656042153,\n",
       " 'MXN': 20.32780513086292,\n",
       " 'MYR': 4.149520601192019,\n",
       " 'NZD': 1.3986352250151162,\n",
       " 'PHP': 50.082059255420226,\n",
       " 'SGD': 1.3475857303273733,\n",
       " 'THB': 32.764965016843746,\n",
       " 'ZAR': 15.026690852552475,\n",
       " 'USD': 1,\n",
       " 'AFN': 91.3}"
      ]
     },
     "execution_count": 18,
     "metadata": {},
     "output_type": "execute_result"
    }
   ],
   "source": [
    "a_dict.update(USD=1)\n",
    "a_dict.update(AFN=91.30)\n",
    "\n",
    "a_dict"
   ]
  },
  {
   "cell_type": "code",
   "execution_count": 19,
   "metadata": {},
   "outputs": [],
   "source": [
    "(pd.DataFrame.from_dict(data=a_dict, orient='index').to_csv('/Users/narenkhatwani/Desktop/Resources/CSV_files/currency_rates/dict_file.csv', header=True))\n",
    "\n",
    "\n",
    "header = [\"cur_name\", \"conversion_rate\"]\n",
    "\n",
    "with open('/Users/narenkhatwani/Desktop/Resources/CSV_files/currency_rates/dict_file.csv', 'r') as fp:\n",
    "    reader = csv.DictReader(fp, fieldnames=header)\n",
    "\n",
    "    # use newline='' to avoid adding new CR at end of line\n",
    "    with open('/Users/narenkhatwani/Desktop/Resources/CSV_files/currency_rates/clean_rates.csv', 'w', newline='') as fh: \n",
    "        writer = csv.DictWriter(fh, fieldnames=reader.fieldnames)\n",
    "        writer.writeheader()\n",
    "        header_mapping = next(reader)\n",
    "        writer.writerows(reader)#working"
   ]
  },
  {
   "cell_type": "code",
   "execution_count": 20,
   "metadata": {},
   "outputs": [],
   "source": [
    "data1 = pd.read_csv('/Users/narenkhatwani/Desktop/Resources/CSV_files/utf8/wfpvam_foodprices_utf8.csv') \n",
    "\n",
    "data2 = pd.read_csv('/Users/narenkhatwani/Desktop/Resources/CSV_files/currency_rates/clean_rates.csv') \n",
    "\n",
    "# using merge function by setting how='left' \n",
    "\n",
    "output2 = pd.merge(data1, data2,on='cur_name',how='left') \n",
    "\n",
    "# displaying result "
   ]
  },
  {
   "cell_type": "code",
   "execution_count": 21,
   "metadata": {},
   "outputs": [
    {
     "data": {
      "text/html": [
       "<div>\n",
       "<style scoped>\n",
       "    .dataframe tbody tr th:only-of-type {\n",
       "        vertical-align: middle;\n",
       "    }\n",
       "\n",
       "    .dataframe tbody tr th {\n",
       "        vertical-align: top;\n",
       "    }\n",
       "\n",
       "    .dataframe thead th {\n",
       "        text-align: right;\n",
       "    }\n",
       "</style>\n",
       "<table border=\"1\" class=\"dataframe\">\n",
       "  <thead>\n",
       "    <tr style=\"text-align: right;\">\n",
       "      <th></th>\n",
       "      <th>adm0_id</th>\n",
       "      <th>adm0_name</th>\n",
       "      <th>adm1_id</th>\n",
       "      <th>adm1_name</th>\n",
       "      <th>mkt_id</th>\n",
       "      <th>mkt_name</th>\n",
       "      <th>cm_id</th>\n",
       "      <th>cm_name</th>\n",
       "      <th>cur_id</th>\n",
       "      <th>cur_name</th>\n",
       "      <th>pt_id</th>\n",
       "      <th>pt_name</th>\n",
       "      <th>um_id</th>\n",
       "      <th>um_name</th>\n",
       "      <th>mp_month</th>\n",
       "      <th>mp_year</th>\n",
       "      <th>mp_price</th>\n",
       "      <th>mp_commoditysource</th>\n",
       "      <th>conversion_rate</th>\n",
       "    </tr>\n",
       "  </thead>\n",
       "  <tbody>\n",
       "    <tr>\n",
       "      <th>0</th>\n",
       "      <td>1</td>\n",
       "      <td>Afghanistan</td>\n",
       "      <td>272</td>\n",
       "      <td>Badakhshan</td>\n",
       "      <td>266</td>\n",
       "      <td>Fayzabad</td>\n",
       "      <td>55</td>\n",
       "      <td>Bread - Retail</td>\n",
       "      <td>0</td>\n",
       "      <td>AFN</td>\n",
       "      <td>15</td>\n",
       "      <td>Retail</td>\n",
       "      <td>5</td>\n",
       "      <td>KG</td>\n",
       "      <td>1</td>\n",
       "      <td>2014</td>\n",
       "      <td>50.0</td>\n",
       "      <td>NaN</td>\n",
       "      <td>91.3</td>\n",
       "    </tr>\n",
       "    <tr>\n",
       "      <th>1</th>\n",
       "      <td>1</td>\n",
       "      <td>Afghanistan</td>\n",
       "      <td>272</td>\n",
       "      <td>Badakhshan</td>\n",
       "      <td>266</td>\n",
       "      <td>Fayzabad</td>\n",
       "      <td>55</td>\n",
       "      <td>Bread - Retail</td>\n",
       "      <td>0</td>\n",
       "      <td>AFN</td>\n",
       "      <td>15</td>\n",
       "      <td>Retail</td>\n",
       "      <td>5</td>\n",
       "      <td>KG</td>\n",
       "      <td>2</td>\n",
       "      <td>2014</td>\n",
       "      <td>50.0</td>\n",
       "      <td>NaN</td>\n",
       "      <td>91.3</td>\n",
       "    </tr>\n",
       "    <tr>\n",
       "      <th>2</th>\n",
       "      <td>1</td>\n",
       "      <td>Afghanistan</td>\n",
       "      <td>272</td>\n",
       "      <td>Badakhshan</td>\n",
       "      <td>266</td>\n",
       "      <td>Fayzabad</td>\n",
       "      <td>55</td>\n",
       "      <td>Bread - Retail</td>\n",
       "      <td>0</td>\n",
       "      <td>AFN</td>\n",
       "      <td>15</td>\n",
       "      <td>Retail</td>\n",
       "      <td>5</td>\n",
       "      <td>KG</td>\n",
       "      <td>3</td>\n",
       "      <td>2014</td>\n",
       "      <td>50.0</td>\n",
       "      <td>NaN</td>\n",
       "      <td>91.3</td>\n",
       "    </tr>\n",
       "    <tr>\n",
       "      <th>3</th>\n",
       "      <td>1</td>\n",
       "      <td>Afghanistan</td>\n",
       "      <td>272</td>\n",
       "      <td>Badakhshan</td>\n",
       "      <td>266</td>\n",
       "      <td>Fayzabad</td>\n",
       "      <td>55</td>\n",
       "      <td>Bread - Retail</td>\n",
       "      <td>0</td>\n",
       "      <td>AFN</td>\n",
       "      <td>15</td>\n",
       "      <td>Retail</td>\n",
       "      <td>5</td>\n",
       "      <td>KG</td>\n",
       "      <td>4</td>\n",
       "      <td>2014</td>\n",
       "      <td>50.0</td>\n",
       "      <td>NaN</td>\n",
       "      <td>91.3</td>\n",
       "    </tr>\n",
       "    <tr>\n",
       "      <th>4</th>\n",
       "      <td>1</td>\n",
       "      <td>Afghanistan</td>\n",
       "      <td>272</td>\n",
       "      <td>Badakhshan</td>\n",
       "      <td>266</td>\n",
       "      <td>Fayzabad</td>\n",
       "      <td>55</td>\n",
       "      <td>Bread - Retail</td>\n",
       "      <td>0</td>\n",
       "      <td>AFN</td>\n",
       "      <td>15</td>\n",
       "      <td>Retail</td>\n",
       "      <td>5</td>\n",
       "      <td>KG</td>\n",
       "      <td>5</td>\n",
       "      <td>2014</td>\n",
       "      <td>50.0</td>\n",
       "      <td>NaN</td>\n",
       "      <td>91.3</td>\n",
       "    </tr>\n",
       "  </tbody>\n",
       "</table>\n",
       "</div>"
      ],
      "text/plain": [
       "   adm0_id    adm0_name  adm1_id   adm1_name  mkt_id  mkt_name  cm_id  \\\n",
       "0        1  Afghanistan      272  Badakhshan     266  Fayzabad     55   \n",
       "1        1  Afghanistan      272  Badakhshan     266  Fayzabad     55   \n",
       "2        1  Afghanistan      272  Badakhshan     266  Fayzabad     55   \n",
       "3        1  Afghanistan      272  Badakhshan     266  Fayzabad     55   \n",
       "4        1  Afghanistan      272  Badakhshan     266  Fayzabad     55   \n",
       "\n",
       "          cm_name  cur_id cur_name  pt_id pt_name  um_id um_name  mp_month  \\\n",
       "0  Bread - Retail       0      AFN     15  Retail      5      KG         1   \n",
       "1  Bread - Retail       0      AFN     15  Retail      5      KG         2   \n",
       "2  Bread - Retail       0      AFN     15  Retail      5      KG         3   \n",
       "3  Bread - Retail       0      AFN     15  Retail      5      KG         4   \n",
       "4  Bread - Retail       0      AFN     15  Retail      5      KG         5   \n",
       "\n",
       "   mp_year  mp_price  mp_commoditysource  conversion_rate  \n",
       "0     2014      50.0                 NaN             91.3  \n",
       "1     2014      50.0                 NaN             91.3  \n",
       "2     2014      50.0                 NaN             91.3  \n",
       "3     2014      50.0                 NaN             91.3  \n",
       "4     2014      50.0                 NaN             91.3  "
      ]
     },
     "execution_count": 21,
     "metadata": {},
     "output_type": "execute_result"
    }
   ],
   "source": [
    "output2.head(5) "
   ]
  },
  {
   "cell_type": "code",
   "execution_count": 22,
   "metadata": {},
   "outputs": [],
   "source": [
    "output3 = output2[output2['conversion_rate'].notna()]"
   ]
  },
  {
   "cell_type": "code",
   "execution_count": 23,
   "metadata": {},
   "outputs": [
    {
     "data": {
      "text/html": [
       "<div>\n",
       "<style scoped>\n",
       "    .dataframe tbody tr th:only-of-type {\n",
       "        vertical-align: middle;\n",
       "    }\n",
       "\n",
       "    .dataframe tbody tr th {\n",
       "        vertical-align: top;\n",
       "    }\n",
       "\n",
       "    .dataframe thead th {\n",
       "        text-align: right;\n",
       "    }\n",
       "</style>\n",
       "<table border=\"1\" class=\"dataframe\">\n",
       "  <thead>\n",
       "    <tr style=\"text-align: right;\">\n",
       "      <th></th>\n",
       "      <th>adm0_id</th>\n",
       "      <th>adm0_name</th>\n",
       "      <th>adm1_id</th>\n",
       "      <th>adm1_name</th>\n",
       "      <th>mkt_id</th>\n",
       "      <th>mkt_name</th>\n",
       "      <th>cm_id</th>\n",
       "      <th>cm_name</th>\n",
       "      <th>cur_id</th>\n",
       "      <th>cur_name</th>\n",
       "      <th>pt_id</th>\n",
       "      <th>pt_name</th>\n",
       "      <th>um_id</th>\n",
       "      <th>um_name</th>\n",
       "      <th>mp_month</th>\n",
       "      <th>mp_year</th>\n",
       "      <th>mp_price</th>\n",
       "      <th>mp_commoditysource</th>\n",
       "      <th>conversion_rate</th>\n",
       "    </tr>\n",
       "  </thead>\n",
       "  <tbody>\n",
       "    <tr>\n",
       "      <th>0</th>\n",
       "      <td>1</td>\n",
       "      <td>Afghanistan</td>\n",
       "      <td>272</td>\n",
       "      <td>Badakhshan</td>\n",
       "      <td>266</td>\n",
       "      <td>Fayzabad</td>\n",
       "      <td>55</td>\n",
       "      <td>Bread - Retail</td>\n",
       "      <td>0</td>\n",
       "      <td>AFN</td>\n",
       "      <td>15</td>\n",
       "      <td>Retail</td>\n",
       "      <td>5</td>\n",
       "      <td>KG</td>\n",
       "      <td>1</td>\n",
       "      <td>2014</td>\n",
       "      <td>50.0</td>\n",
       "      <td>NaN</td>\n",
       "      <td>91.3</td>\n",
       "    </tr>\n",
       "    <tr>\n",
       "      <th>1</th>\n",
       "      <td>1</td>\n",
       "      <td>Afghanistan</td>\n",
       "      <td>272</td>\n",
       "      <td>Badakhshan</td>\n",
       "      <td>266</td>\n",
       "      <td>Fayzabad</td>\n",
       "      <td>55</td>\n",
       "      <td>Bread - Retail</td>\n",
       "      <td>0</td>\n",
       "      <td>AFN</td>\n",
       "      <td>15</td>\n",
       "      <td>Retail</td>\n",
       "      <td>5</td>\n",
       "      <td>KG</td>\n",
       "      <td>2</td>\n",
       "      <td>2014</td>\n",
       "      <td>50.0</td>\n",
       "      <td>NaN</td>\n",
       "      <td>91.3</td>\n",
       "    </tr>\n",
       "    <tr>\n",
       "      <th>2</th>\n",
       "      <td>1</td>\n",
       "      <td>Afghanistan</td>\n",
       "      <td>272</td>\n",
       "      <td>Badakhshan</td>\n",
       "      <td>266</td>\n",
       "      <td>Fayzabad</td>\n",
       "      <td>55</td>\n",
       "      <td>Bread - Retail</td>\n",
       "      <td>0</td>\n",
       "      <td>AFN</td>\n",
       "      <td>15</td>\n",
       "      <td>Retail</td>\n",
       "      <td>5</td>\n",
       "      <td>KG</td>\n",
       "      <td>3</td>\n",
       "      <td>2014</td>\n",
       "      <td>50.0</td>\n",
       "      <td>NaN</td>\n",
       "      <td>91.3</td>\n",
       "    </tr>\n",
       "    <tr>\n",
       "      <th>3</th>\n",
       "      <td>1</td>\n",
       "      <td>Afghanistan</td>\n",
       "      <td>272</td>\n",
       "      <td>Badakhshan</td>\n",
       "      <td>266</td>\n",
       "      <td>Fayzabad</td>\n",
       "      <td>55</td>\n",
       "      <td>Bread - Retail</td>\n",
       "      <td>0</td>\n",
       "      <td>AFN</td>\n",
       "      <td>15</td>\n",
       "      <td>Retail</td>\n",
       "      <td>5</td>\n",
       "      <td>KG</td>\n",
       "      <td>4</td>\n",
       "      <td>2014</td>\n",
       "      <td>50.0</td>\n",
       "      <td>NaN</td>\n",
       "      <td>91.3</td>\n",
       "    </tr>\n",
       "    <tr>\n",
       "      <th>4</th>\n",
       "      <td>1</td>\n",
       "      <td>Afghanistan</td>\n",
       "      <td>272</td>\n",
       "      <td>Badakhshan</td>\n",
       "      <td>266</td>\n",
       "      <td>Fayzabad</td>\n",
       "      <td>55</td>\n",
       "      <td>Bread - Retail</td>\n",
       "      <td>0</td>\n",
       "      <td>AFN</td>\n",
       "      <td>15</td>\n",
       "      <td>Retail</td>\n",
       "      <td>5</td>\n",
       "      <td>KG</td>\n",
       "      <td>5</td>\n",
       "      <td>2014</td>\n",
       "      <td>50.0</td>\n",
       "      <td>NaN</td>\n",
       "      <td>91.3</td>\n",
       "    </tr>\n",
       "  </tbody>\n",
       "</table>\n",
       "</div>"
      ],
      "text/plain": [
       "   adm0_id    adm0_name  adm1_id   adm1_name  mkt_id  mkt_name  cm_id  \\\n",
       "0        1  Afghanistan      272  Badakhshan     266  Fayzabad     55   \n",
       "1        1  Afghanistan      272  Badakhshan     266  Fayzabad     55   \n",
       "2        1  Afghanistan      272  Badakhshan     266  Fayzabad     55   \n",
       "3        1  Afghanistan      272  Badakhshan     266  Fayzabad     55   \n",
       "4        1  Afghanistan      272  Badakhshan     266  Fayzabad     55   \n",
       "\n",
       "          cm_name  cur_id cur_name  pt_id pt_name  um_id um_name  mp_month  \\\n",
       "0  Bread - Retail       0      AFN     15  Retail      5      KG         1   \n",
       "1  Bread - Retail       0      AFN     15  Retail      5      KG         2   \n",
       "2  Bread - Retail       0      AFN     15  Retail      5      KG         3   \n",
       "3  Bread - Retail       0      AFN     15  Retail      5      KG         4   \n",
       "4  Bread - Retail       0      AFN     15  Retail      5      KG         5   \n",
       "\n",
       "   mp_year  mp_price  mp_commoditysource  conversion_rate  \n",
       "0     2014      50.0                 NaN             91.3  \n",
       "1     2014      50.0                 NaN             91.3  \n",
       "2     2014      50.0                 NaN             91.3  \n",
       "3     2014      50.0                 NaN             91.3  \n",
       "4     2014      50.0                 NaN             91.3  "
      ]
     },
     "execution_count": 23,
     "metadata": {},
     "output_type": "execute_result"
    }
   ],
   "source": [
    "output3.head(5)"
   ]
  },
  {
   "cell_type": "code",
   "execution_count": 24,
   "metadata": {},
   "outputs": [],
   "source": [
    "output3.to_csv('/Users/narenkhatwani/Desktop/Resources/Final_csv_cleaned/global_food_clean.csv', index=False)"
   ]
  },
  {
   "cell_type": "code",
   "execution_count": 25,
   "metadata": {},
   "outputs": [
    {
     "name": "stdout",
     "output_type": "stream",
     "text": [
      "Ignoring column adm0_name because dtype \"object\" has no HDF5 equivalent.\n",
      "Ignoring column adm1_name because dtype \"object\" has no HDF5 equivalent.\n",
      "Ignoring column mkt_name because dtype \"object\" has no HDF5 equivalent.\n",
      "Ignoring column cm_name because dtype \"object\" has no HDF5 equivalent.\n",
      "Ignoring column cur_name because dtype \"object\" has no HDF5 equivalent.\n",
      "Ignoring column pt_name because dtype \"object\" has no HDF5 equivalent.\n",
      "Ignoring column um_name because dtype \"object\" has no HDF5 equivalent.\n",
      "Columns to be extracted:\n",
      "<class 'pandas.core.frame.DataFrame'>\n",
      "RangeIndex: 1000 entries, 0 to 999\n",
      "Data columns (total 12 columns):\n",
      " #   Column              Non-Null Count  Dtype  \n",
      "---  ------              --------------  -----  \n",
      " 0   adm0_id             1000 non-null   int64  \n",
      " 1   adm1_id             1000 non-null   int64  \n",
      " 2   mkt_id              1000 non-null   int64  \n",
      " 3   cm_id               1000 non-null   int64  \n",
      " 4   cur_id              1000 non-null   int64  \n",
      " 5   pt_id               1000 non-null   int64  \n",
      " 6   um_id               1000 non-null   int64  \n",
      " 7   mp_month            1000 non-null   int64  \n",
      " 8   mp_year             1000 non-null   int64  \n",
      " 9   mp_price            1000 non-null   float64\n",
      " 10  mp_commoditysource  0 non-null      float64\n",
      " 11  conversion_rate     1000 non-null   float64\n",
      "dtypes: float64(3), int64(9)\n",
      "memory usage: 93.9 KB\n",
      "None\n",
      "100%|█████████████████████████████████████████████| 1/1 [00:00<00:00,  2.33it/s]\n"
     ]
    }
   ],
   "source": [
    "!python3 /Users/narenkhatwani/Documents/GitHub/arkouda/converter/csv2hdf.py \\\n",
    "--formats-file=/Users/narenkhatwani/Desktop/Resources/formatter_file/formatter_file.py\\\n",
    "--format=yellow \\\n",
    "--outdir=/Users/narenkhatwani/Desktop/Resources/Csv_final_pruned_merged\\\n",
    "/Users/narenkhatwani/Desktop/Resources/Final_csv_cleaned/global_food_clean.csv"
   ]
  },
  {
   "cell_type": "markdown",
   "metadata": {},
   "source": [
    "## 2.4 Countries IDs and mapping Data for later use"
   ]
  },
  {
   "cell_type": "code",
   "execution_count": 26,
   "metadata": {},
   "outputs": [
    {
     "name": "stderr",
     "output_type": "stream",
     "text": [
      "/Users/narenkhatwani/opt/anaconda3/lib/python3.8/site-packages/IPython/core/interactiveshell.py:3071: DtypeWarning: Columns (3) have mixed types.Specify dtype option on import or set low_memory=False.\n",
      "  has_raised = await self.run_ast_nodes(code_ast.body, cell_name,\n"
     ]
    },
    {
     "name": "stdout",
     "output_type": "stream",
     "text": [
      "{1: 'Afghanistan', 4: 'Algeria', 8: 'Angola', 12: 'Argentina', 13: 'Armenia', 19: 'Azerbaijan', 23: 'Bangladesh', 115: 'Bassas da India', 26: 'Belarus', 29: 'Benin', 31: 'Bhutan', 33: 'Bolivia', 42: 'Burkina Faso', 43: 'Burundi', 44: 'Cambodia', 45: 'Cameroon', 47: 'Cape Verde', 49: 'Central African Republic', 50: 'Chad', 52: 'China', 57: 'Colombia', 59: 'Congo', 61: 'Costa Rica', 66: \"Cote d'Ivoire\", 68: 'Democratic Republic of the Congo', 70: 'Djibouti', 72: 'Dominican Republic', 73: 'Ecuador', 40765: 'Egypt', 75: 'El Salvador', 77: 'Eritrea', 79: 'Ethiopia', 89: 'Gabon', 90: 'Gambia', 92: 'Georgia', 94: 'Ghana', 103: 'Guatemala', 106: 'Guinea', 105: 'Guinea-Bissau', 108: 'Haiti', 111: 'Honduras', 116: 'Indonesia', 117: 'Iran  (Islamic Republic of)', 118: 'Iraq', 126: 'Japan', 130: 'Jordan', 132: 'Kazakhstan', 133: 'Kenya', 138: 'Kyrgyzstan', 139: \"Lao People's Democratic Republic\", 141: 'Lebanon', 142: 'Lesotho', 144: 'Liberia', 145: 'Libya', 150: 'Madagascar', 152: 'Malawi'}\n"
     ]
    }
   ],
   "source": [
    "countries_df=pd.read_csv(\"/Users/narenkhatwani/Desktop/Resources/CSV_files/utf8/wfpvam_foodprices_utf8.csv\")\n",
    "\n",
    "market_names_dictionary=pd.Series(countries_df.adm0_name.values,index=countries_df.adm0_id).to_dict()\n",
    "\n",
    "print(market_names_dictionary)"
   ]
  },
  {
   "cell_type": "code",
   "execution_count": 27,
   "metadata": {},
   "outputs": [],
   "source": [
    "#creating a dataframe\n",
    "df_country_ids = pd.DataFrame()\n",
    "#giving column names in the dataframe to the dictionary key-values\n",
    "df_country_ids['adm0_id'] = market_names_dictionary.keys()\n",
    "df_country_ids['adm0_name'] = market_names_dictionary.values()"
   ]
  },
  {
   "cell_type": "code",
   "execution_count": 28,
   "metadata": {},
   "outputs": [
    {
     "data": {
      "text/html": [
       "<div>\n",
       "<style scoped>\n",
       "    .dataframe tbody tr th:only-of-type {\n",
       "        vertical-align: middle;\n",
       "    }\n",
       "\n",
       "    .dataframe tbody tr th {\n",
       "        vertical-align: top;\n",
       "    }\n",
       "\n",
       "    .dataframe thead th {\n",
       "        text-align: right;\n",
       "    }\n",
       "</style>\n",
       "<table border=\"1\" class=\"dataframe\">\n",
       "  <thead>\n",
       "    <tr style=\"text-align: right;\">\n",
       "      <th></th>\n",
       "      <th>adm0_id</th>\n",
       "      <th>adm0_name</th>\n",
       "    </tr>\n",
       "  </thead>\n",
       "  <tbody>\n",
       "    <tr>\n",
       "      <th>0</th>\n",
       "      <td>1</td>\n",
       "      <td>Afghanistan</td>\n",
       "    </tr>\n",
       "    <tr>\n",
       "      <th>1</th>\n",
       "      <td>4</td>\n",
       "      <td>Algeria</td>\n",
       "    </tr>\n",
       "    <tr>\n",
       "      <th>2</th>\n",
       "      <td>8</td>\n",
       "      <td>Angola</td>\n",
       "    </tr>\n",
       "    <tr>\n",
       "      <th>3</th>\n",
       "      <td>12</td>\n",
       "      <td>Argentina</td>\n",
       "    </tr>\n",
       "    <tr>\n",
       "      <th>4</th>\n",
       "      <td>13</td>\n",
       "      <td>Armenia</td>\n",
       "    </tr>\n",
       "    <tr>\n",
       "      <th>5</th>\n",
       "      <td>19</td>\n",
       "      <td>Azerbaijan</td>\n",
       "    </tr>\n",
       "    <tr>\n",
       "      <th>6</th>\n",
       "      <td>23</td>\n",
       "      <td>Bangladesh</td>\n",
       "    </tr>\n",
       "    <tr>\n",
       "      <th>7</th>\n",
       "      <td>115</td>\n",
       "      <td>Bassas da India</td>\n",
       "    </tr>\n",
       "    <tr>\n",
       "      <th>8</th>\n",
       "      <td>26</td>\n",
       "      <td>Belarus</td>\n",
       "    </tr>\n",
       "    <tr>\n",
       "      <th>9</th>\n",
       "      <td>29</td>\n",
       "      <td>Benin</td>\n",
       "    </tr>\n",
       "  </tbody>\n",
       "</table>\n",
       "</div>"
      ],
      "text/plain": [
       "   adm0_id        adm0_name\n",
       "0        1      Afghanistan\n",
       "1        4          Algeria\n",
       "2        8           Angola\n",
       "3       12        Argentina\n",
       "4       13          Armenia\n",
       "5       19       Azerbaijan\n",
       "6       23       Bangladesh\n",
       "7      115  Bassas da India\n",
       "8       26          Belarus\n",
       "9       29            Benin"
      ]
     },
     "execution_count": 28,
     "metadata": {},
     "output_type": "execute_result"
    }
   ],
   "source": [
    "df_country_ids.head(10)"
   ]
  },
  {
   "cell_type": "code",
   "execution_count": 57,
   "metadata": {},
   "outputs": [
    {
     "data": {
      "text/html": [
       "<div>\n",
       "<style scoped>\n",
       "    .dataframe tbody tr th:only-of-type {\n",
       "        vertical-align: middle;\n",
       "    }\n",
       "\n",
       "    .dataframe tbody tr th {\n",
       "        vertical-align: top;\n",
       "    }\n",
       "\n",
       "    .dataframe thead th {\n",
       "        text-align: right;\n",
       "    }\n",
       "</style>\n",
       "<table border=\"1\" class=\"dataframe\">\n",
       "  <thead>\n",
       "    <tr style=\"text-align: right;\">\n",
       "      <th></th>\n",
       "      <th>adm0_id</th>\n",
       "      <th>adm0_name</th>\n",
       "    </tr>\n",
       "  </thead>\n",
       "  <tbody>\n",
       "    <tr>\n",
       "      <th>0</th>\n",
       "      <td>1</td>\n",
       "      <td>Afghanistan</td>\n",
       "    </tr>\n",
       "    <tr>\n",
       "      <th>1</th>\n",
       "      <td>4</td>\n",
       "      <td>Algeria</td>\n",
       "    </tr>\n",
       "    <tr>\n",
       "      <th>2</th>\n",
       "      <td>8</td>\n",
       "      <td>Angola</td>\n",
       "    </tr>\n",
       "    <tr>\n",
       "      <th>3</th>\n",
       "      <td>12</td>\n",
       "      <td>Argentina</td>\n",
       "    </tr>\n",
       "    <tr>\n",
       "      <th>4</th>\n",
       "      <td>13</td>\n",
       "      <td>Armenia</td>\n",
       "    </tr>\n",
       "  </tbody>\n",
       "</table>\n",
       "</div>"
      ],
      "text/plain": [
       "   adm0_id    adm0_name\n",
       "0        1  Afghanistan\n",
       "1        4      Algeria\n",
       "2        8       Angola\n",
       "3       12    Argentina\n",
       "4       13      Armenia"
      ]
     },
     "execution_count": 57,
     "metadata": {},
     "output_type": "execute_result"
    }
   ],
   "source": [
    "df_country_ids_sorted=df_country_ids.sort_values([\"adm0_id\", \"adm0_name\"], ascending=True)\n",
    "df_country_ids_sorted.head(5)"
   ]
  },
  {
   "cell_type": "markdown",
   "metadata": {},
   "source": [
    "# Analysis using Arkouda"
   ]
  },
  {
   "cell_type": "code",
   "execution_count": 29,
   "metadata": {},
   "outputs": [],
   "source": [
    "#reading the hdf5 file\n",
    "green_from_HDF5 = ak.read_all('/Users/narenkhatwani/Desktop/Resources/Csv_final_pruned_merged/global_food_clean.hdf')"
   ]
  },
  {
   "cell_type": "code",
   "execution_count": 30,
   "metadata": {},
   "outputs": [
    {
     "data": {
      "text/plain": [
       "['adm0_id',\n",
       " 'adm1_id',\n",
       " 'cm_id',\n",
       " 'conversion_rate',\n",
       " 'cur_id',\n",
       " 'mkt_id',\n",
       " 'mp_commoditysource',\n",
       " 'mp_month',\n",
       " 'mp_price',\n",
       " 'mp_year',\n",
       " 'pt_id',\n",
       " 'um_id']"
      ]
     },
     "execution_count": 30,
     "metadata": {},
     "output_type": "execute_result"
    }
   ],
   "source": [
    "#reading all the columns names and displaying them\n",
    "ak.get_datasets('/Users/narenkhatwani/Desktop/Resources/Csv_final_pruned_merged/global_food_clean.hdf')"
   ]
  },
  {
   "cell_type": "code",
   "execution_count": 31,
   "metadata": {},
   "outputs": [],
   "source": [
    "#data becomes the dataframe\n",
    "data=green_from_HDF5"
   ]
  },
  {
   "cell_type": "code",
   "execution_count": 32,
   "metadata": {},
   "outputs": [
    {
     "data": {
      "text/plain": [
       "array([1 1 1 ... 126 126 126])"
      ]
     },
     "execution_count": 32,
     "metadata": {},
     "output_type": "execute_result"
    }
   ],
   "source": [
    "#printing a pdarray\n",
    "data['adm0_id']"
   ]
  },
  {
   "cell_type": "code",
   "execution_count": 33,
   "metadata": {},
   "outputs": [
    {
     "data": {
      "text/plain": [
       "array([50 50 50 ... 200 216 200])"
      ]
     },
     "execution_count": 33,
     "metadata": {},
     "output_type": "execute_result"
    }
   ],
   "source": [
    "data['mp_price']"
   ]
  },
  {
   "cell_type": "code",
   "execution_count": 34,
   "metadata": {},
   "outputs": [],
   "source": [
    "#resultant currency conversion\n",
    "data['currency_product']=data['mp_price']/data['conversion_rate']"
   ]
  },
  {
   "cell_type": "code",
   "execution_count": 35,
   "metadata": {},
   "outputs": [
    {
     "data": {
      "text/plain": [
       "array([0.547645125958379 0.547645125958379 0.547645125958379 ... 1.7688311688311686 1.9103376623376622 1.7688311688311686])"
      ]
     },
     "execution_count": 35,
     "metadata": {},
     "output_type": "execute_result"
    }
   ],
   "source": [
    "data['currency_product']"
   ]
  },
  {
   "cell_type": "markdown",
   "metadata": {},
   "source": [
    "### Finding items worth more than 10000 USD in Afghantistan "
   ]
  },
  {
   "cell_type": "code",
   "execution_count": 42,
   "metadata": {},
   "outputs": [],
   "source": [
    "exorbitant = ((data['currency_product'] > 10000) & (data['adm0_id'] == 1) )\n",
    "exdf = pd.DataFrame({k: v[exorbitant].to_ndarray() for k, v in data.items()})"
   ]
  },
  {
   "cell_type": "code",
   "execution_count": 62,
   "metadata": {},
   "outputs": [
    {
     "data": {
      "text/html": [
       "<div>\n",
       "<style scoped>\n",
       "    .dataframe tbody tr th:only-of-type {\n",
       "        vertical-align: middle;\n",
       "    }\n",
       "\n",
       "    .dataframe tbody tr th {\n",
       "        vertical-align: top;\n",
       "    }\n",
       "\n",
       "    .dataframe thead th {\n",
       "        text-align: right;\n",
       "    }\n",
       "</style>\n",
       "<table border=\"1\" class=\"dataframe\">\n",
       "  <thead>\n",
       "    <tr style=\"text-align: right;\">\n",
       "      <th></th>\n",
       "      <th>adm0_id</th>\n",
       "      <th>adm1_id</th>\n",
       "      <th>cm_id</th>\n",
       "      <th>conversion_rate</th>\n",
       "      <th>cur_id</th>\n",
       "      <th>mkt_id</th>\n",
       "      <th>mp_commoditysource</th>\n",
       "      <th>mp_month</th>\n",
       "      <th>mp_price</th>\n",
       "      <th>mp_year</th>\n",
       "      <th>pt_id</th>\n",
       "      <th>um_id</th>\n",
       "      <th>currency_product</th>\n",
       "    </tr>\n",
       "  </thead>\n",
       "  <tbody>\n",
       "    <tr>\n",
       "      <th>0</th>\n",
       "      <td>1</td>\n",
       "      <td>272</td>\n",
       "      <td>275</td>\n",
       "      <td>91.3</td>\n",
       "      <td>0</td>\n",
       "      <td>266</td>\n",
       "      <td>NaN</td>\n",
       "      <td>5</td>\n",
       "      <td>1625000.0</td>\n",
       "      <td>2000</td>\n",
       "      <td>15</td>\n",
       "      <td>33</td>\n",
       "      <td>17798.466594</td>\n",
       "    </tr>\n",
       "    <tr>\n",
       "      <th>1</th>\n",
       "      <td>1</td>\n",
       "      <td>272</td>\n",
       "      <td>275</td>\n",
       "      <td>91.3</td>\n",
       "      <td>0</td>\n",
       "      <td>266</td>\n",
       "      <td>NaN</td>\n",
       "      <td>6</td>\n",
       "      <td>1476000.0</td>\n",
       "      <td>2000</td>\n",
       "      <td>15</td>\n",
       "      <td>33</td>\n",
       "      <td>16166.484118</td>\n",
       "    </tr>\n",
       "    <tr>\n",
       "      <th>2</th>\n",
       "      <td>1</td>\n",
       "      <td>272</td>\n",
       "      <td>275</td>\n",
       "      <td>91.3</td>\n",
       "      <td>0</td>\n",
       "      <td>266</td>\n",
       "      <td>NaN</td>\n",
       "      <td>7</td>\n",
       "      <td>1800000.0</td>\n",
       "      <td>2000</td>\n",
       "      <td>15</td>\n",
       "      <td>33</td>\n",
       "      <td>19715.224535</td>\n",
       "    </tr>\n",
       "    <tr>\n",
       "      <th>3</th>\n",
       "      <td>1</td>\n",
       "      <td>272</td>\n",
       "      <td>275</td>\n",
       "      <td>91.3</td>\n",
       "      <td>0</td>\n",
       "      <td>266</td>\n",
       "      <td>NaN</td>\n",
       "      <td>8</td>\n",
       "      <td>1700000.0</td>\n",
       "      <td>2000</td>\n",
       "      <td>15</td>\n",
       "      <td>33</td>\n",
       "      <td>18619.934283</td>\n",
       "    </tr>\n",
       "    <tr>\n",
       "      <th>4</th>\n",
       "      <td>1</td>\n",
       "      <td>272</td>\n",
       "      <td>275</td>\n",
       "      <td>91.3</td>\n",
       "      <td>0</td>\n",
       "      <td>266</td>\n",
       "      <td>NaN</td>\n",
       "      <td>9</td>\n",
       "      <td>1300000.0</td>\n",
       "      <td>2000</td>\n",
       "      <td>15</td>\n",
       "      <td>33</td>\n",
       "      <td>14238.773275</td>\n",
       "    </tr>\n",
       "  </tbody>\n",
       "</table>\n",
       "</div>"
      ],
      "text/plain": [
       "   adm0_id  adm1_id  cm_id  conversion_rate  cur_id  mkt_id  \\\n",
       "0        1      272    275             91.3       0     266   \n",
       "1        1      272    275             91.3       0     266   \n",
       "2        1      272    275             91.3       0     266   \n",
       "3        1      272    275             91.3       0     266   \n",
       "4        1      272    275             91.3       0     266   \n",
       "\n",
       "   mp_commoditysource  mp_month   mp_price  mp_year  pt_id  um_id  \\\n",
       "0                 NaN         5  1625000.0     2000     15     33   \n",
       "1                 NaN         6  1476000.0     2000     15     33   \n",
       "2                 NaN         7  1800000.0     2000     15     33   \n",
       "3                 NaN         8  1700000.0     2000     15     33   \n",
       "4                 NaN         9  1300000.0     2000     15     33   \n",
       "\n",
       "   currency_product  \n",
       "0      17798.466594  \n",
       "1      16166.484118  \n",
       "2      19715.224535  \n",
       "3      18619.934283  \n",
       "4      14238.773275  "
      ]
     },
     "execution_count": 62,
     "metadata": {},
     "output_type": "execute_result"
    }
   ],
   "source": [
    "exdf.head(5)"
   ]
  },
  {
   "cell_type": "code",
   "execution_count": 50,
   "metadata": {},
   "outputs": [
    {
     "data": {
      "text/html": [
       "<div>\n",
       "<style scoped>\n",
       "    .dataframe tbody tr th:only-of-type {\n",
       "        vertical-align: middle;\n",
       "    }\n",
       "\n",
       "    .dataframe tbody tr th {\n",
       "        vertical-align: top;\n",
       "    }\n",
       "\n",
       "    .dataframe thead th {\n",
       "        text-align: right;\n",
       "    }\n",
       "</style>\n",
       "<table border=\"1\" class=\"dataframe\">\n",
       "  <thead>\n",
       "    <tr style=\"text-align: right;\">\n",
       "      <th></th>\n",
       "      <th>adm0_id</th>\n",
       "      <th>adm1_id</th>\n",
       "      <th>cm_id</th>\n",
       "      <th>conversion_rate</th>\n",
       "      <th>cur_id</th>\n",
       "      <th>mkt_id</th>\n",
       "      <th>mp_commoditysource</th>\n",
       "      <th>mp_month</th>\n",
       "      <th>mp_price</th>\n",
       "      <th>mp_year</th>\n",
       "      <th>pt_id</th>\n",
       "      <th>um_id</th>\n",
       "      <th>currency_product</th>\n",
       "      <th>adm0_name</th>\n",
       "    </tr>\n",
       "  </thead>\n",
       "  <tbody>\n",
       "    <tr>\n",
       "      <th>0</th>\n",
       "      <td>1</td>\n",
       "      <td>272</td>\n",
       "      <td>275</td>\n",
       "      <td>91.3</td>\n",
       "      <td>0</td>\n",
       "      <td>266</td>\n",
       "      <td>NaN</td>\n",
       "      <td>5</td>\n",
       "      <td>1625000.0</td>\n",
       "      <td>2000</td>\n",
       "      <td>15</td>\n",
       "      <td>33</td>\n",
       "      <td>17798.466594</td>\n",
       "      <td>Afghanistan</td>\n",
       "    </tr>\n",
       "    <tr>\n",
       "      <th>1</th>\n",
       "      <td>1</td>\n",
       "      <td>272</td>\n",
       "      <td>275</td>\n",
       "      <td>91.3</td>\n",
       "      <td>0</td>\n",
       "      <td>266</td>\n",
       "      <td>NaN</td>\n",
       "      <td>6</td>\n",
       "      <td>1476000.0</td>\n",
       "      <td>2000</td>\n",
       "      <td>15</td>\n",
       "      <td>33</td>\n",
       "      <td>16166.484118</td>\n",
       "      <td>Afghanistan</td>\n",
       "    </tr>\n",
       "    <tr>\n",
       "      <th>2</th>\n",
       "      <td>1</td>\n",
       "      <td>272</td>\n",
       "      <td>275</td>\n",
       "      <td>91.3</td>\n",
       "      <td>0</td>\n",
       "      <td>266</td>\n",
       "      <td>NaN</td>\n",
       "      <td>7</td>\n",
       "      <td>1800000.0</td>\n",
       "      <td>2000</td>\n",
       "      <td>15</td>\n",
       "      <td>33</td>\n",
       "      <td>19715.224535</td>\n",
       "      <td>Afghanistan</td>\n",
       "    </tr>\n",
       "    <tr>\n",
       "      <th>3</th>\n",
       "      <td>1</td>\n",
       "      <td>272</td>\n",
       "      <td>275</td>\n",
       "      <td>91.3</td>\n",
       "      <td>0</td>\n",
       "      <td>266</td>\n",
       "      <td>NaN</td>\n",
       "      <td>8</td>\n",
       "      <td>1700000.0</td>\n",
       "      <td>2000</td>\n",
       "      <td>15</td>\n",
       "      <td>33</td>\n",
       "      <td>18619.934283</td>\n",
       "      <td>Afghanistan</td>\n",
       "    </tr>\n",
       "    <tr>\n",
       "      <th>4</th>\n",
       "      <td>1</td>\n",
       "      <td>272</td>\n",
       "      <td>275</td>\n",
       "      <td>91.3</td>\n",
       "      <td>0</td>\n",
       "      <td>266</td>\n",
       "      <td>NaN</td>\n",
       "      <td>9</td>\n",
       "      <td>1300000.0</td>\n",
       "      <td>2000</td>\n",
       "      <td>15</td>\n",
       "      <td>33</td>\n",
       "      <td>14238.773275</td>\n",
       "      <td>Afghanistan</td>\n",
       "    </tr>\n",
       "    <tr>\n",
       "      <th>...</th>\n",
       "      <td>...</td>\n",
       "      <td>...</td>\n",
       "      <td>...</td>\n",
       "      <td>...</td>\n",
       "      <td>...</td>\n",
       "      <td>...</td>\n",
       "      <td>...</td>\n",
       "      <td>...</td>\n",
       "      <td>...</td>\n",
       "      <td>...</td>\n",
       "      <td>...</td>\n",
       "      <td>...</td>\n",
       "      <td>...</td>\n",
       "      <td>...</td>\n",
       "    </tr>\n",
       "    <tr>\n",
       "      <th>154</th>\n",
       "      <td>1</td>\n",
       "      <td>292</td>\n",
       "      <td>275</td>\n",
       "      <td>91.3</td>\n",
       "      <td>0</td>\n",
       "      <td>273</td>\n",
       "      <td>NaN</td>\n",
       "      <td>7</td>\n",
       "      <td>1498750.0</td>\n",
       "      <td>2002</td>\n",
       "      <td>15</td>\n",
       "      <td>33</td>\n",
       "      <td>16415.662651</td>\n",
       "      <td>Afghanistan</td>\n",
       "    </tr>\n",
       "    <tr>\n",
       "      <th>155</th>\n",
       "      <td>1</td>\n",
       "      <td>292</td>\n",
       "      <td>275</td>\n",
       "      <td>91.3</td>\n",
       "      <td>0</td>\n",
       "      <td>273</td>\n",
       "      <td>NaN</td>\n",
       "      <td>9</td>\n",
       "      <td>1360333.0</td>\n",
       "      <td>2002</td>\n",
       "      <td>15</td>\n",
       "      <td>33</td>\n",
       "      <td>14899.594743</td>\n",
       "      <td>Afghanistan</td>\n",
       "    </tr>\n",
       "    <tr>\n",
       "      <th>156</th>\n",
       "      <td>1</td>\n",
       "      <td>292</td>\n",
       "      <td>275</td>\n",
       "      <td>91.3</td>\n",
       "      <td>0</td>\n",
       "      <td>273</td>\n",
       "      <td>NaN</td>\n",
       "      <td>10</td>\n",
       "      <td>1364584.0</td>\n",
       "      <td>2002</td>\n",
       "      <td>15</td>\n",
       "      <td>33</td>\n",
       "      <td>14946.155531</td>\n",
       "      <td>Afghanistan</td>\n",
       "    </tr>\n",
       "    <tr>\n",
       "      <th>157</th>\n",
       "      <td>1</td>\n",
       "      <td>292</td>\n",
       "      <td>275</td>\n",
       "      <td>91.3</td>\n",
       "      <td>0</td>\n",
       "      <td>273</td>\n",
       "      <td>NaN</td>\n",
       "      <td>11</td>\n",
       "      <td>1626083.0</td>\n",
       "      <td>2002</td>\n",
       "      <td>15</td>\n",
       "      <td>33</td>\n",
       "      <td>17810.328587</td>\n",
       "      <td>Afghanistan</td>\n",
       "    </tr>\n",
       "    <tr>\n",
       "      <th>158</th>\n",
       "      <td>1</td>\n",
       "      <td>292</td>\n",
       "      <td>275</td>\n",
       "      <td>91.3</td>\n",
       "      <td>0</td>\n",
       "      <td>273</td>\n",
       "      <td>NaN</td>\n",
       "      <td>12</td>\n",
       "      <td>1572083.0</td>\n",
       "      <td>2002</td>\n",
       "      <td>15</td>\n",
       "      <td>33</td>\n",
       "      <td>17218.871851</td>\n",
       "      <td>Afghanistan</td>\n",
       "    </tr>\n",
       "  </tbody>\n",
       "</table>\n",
       "<p>159 rows × 14 columns</p>\n",
       "</div>"
      ],
      "text/plain": [
       "     adm0_id  adm1_id  cm_id  conversion_rate  cur_id  mkt_id  \\\n",
       "0          1      272    275             91.3       0     266   \n",
       "1          1      272    275             91.3       0     266   \n",
       "2          1      272    275             91.3       0     266   \n",
       "3          1      272    275             91.3       0     266   \n",
       "4          1      272    275             91.3       0     266   \n",
       "..       ...      ...    ...              ...     ...     ...   \n",
       "154        1      292    275             91.3       0     273   \n",
       "155        1      292    275             91.3       0     273   \n",
       "156        1      292    275             91.3       0     273   \n",
       "157        1      292    275             91.3       0     273   \n",
       "158        1      292    275             91.3       0     273   \n",
       "\n",
       "     mp_commoditysource  mp_month   mp_price  mp_year  pt_id  um_id  \\\n",
       "0                   NaN         5  1625000.0     2000     15     33   \n",
       "1                   NaN         6  1476000.0     2000     15     33   \n",
       "2                   NaN         7  1800000.0     2000     15     33   \n",
       "3                   NaN         8  1700000.0     2000     15     33   \n",
       "4                   NaN         9  1300000.0     2000     15     33   \n",
       "..                  ...       ...        ...      ...    ...    ...   \n",
       "154                 NaN         7  1498750.0     2002     15     33   \n",
       "155                 NaN         9  1360333.0     2002     15     33   \n",
       "156                 NaN        10  1364584.0     2002     15     33   \n",
       "157                 NaN        11  1626083.0     2002     15     33   \n",
       "158                 NaN        12  1572083.0     2002     15     33   \n",
       "\n",
       "     currency_product    adm0_name  \n",
       "0        17798.466594  Afghanistan  \n",
       "1        16166.484118  Afghanistan  \n",
       "2        19715.224535  Afghanistan  \n",
       "3        18619.934283  Afghanistan  \n",
       "4        14238.773275  Afghanistan  \n",
       "..                ...          ...  \n",
       "154      16415.662651  Afghanistan  \n",
       "155      14899.594743  Afghanistan  \n",
       "156      14946.155531  Afghanistan  \n",
       "157      17810.328587  Afghanistan  \n",
       "158      17218.871851  Afghanistan  \n",
       "\n",
       "[159 rows x 14 columns]"
      ]
     },
     "execution_count": 50,
     "metadata": {},
     "output_type": "execute_result"
    }
   ],
   "source": [
    "country_specific=exdf.merge(df_country_ids,on='adm0_id',how='left')\n",
    "country_specific"
   ]
  },
  {
   "cell_type": "code",
   "execution_count": null,
   "metadata": {},
   "outputs": [],
   "source": []
  },
  {
   "cell_type": "markdown",
   "metadata": {},
   "source": [
    "# Analysis using Pandas"
   ]
  },
  {
   "cell_type": "code",
   "execution_count": null,
   "metadata": {},
   "outputs": [],
   "source": []
  },
  {
   "cell_type": "markdown",
   "metadata": {},
   "source": [
    "## Arkouda Configuration"
   ]
  },
  {
   "cell_type": "code",
   "execution_count": 39,
   "metadata": {},
   "outputs": [],
   "source": [
    "cfg=ak.get_config()"
   ]
  },
  {
   "cell_type": "code",
   "execution_count": 40,
   "metadata": {},
   "outputs": [
    {
     "data": {
      "text/plain": [
       "{'arkoudaVersion': 'v2021.08.20+18.g7a657ad',\n",
       " 'ZMQVersion': '4.3.2',\n",
       " 'HDF5Version': '1.12.1',\n",
       " 'serverHostname': 'MacBook-Pro-7.local',\n",
       " 'ServerPort': 5555,\n",
       " 'numLocales': 1,\n",
       " 'numPUs': 4,\n",
       " 'maxTaskPar': 4,\n",
       " 'physicalMemory': 8589934592,\n",
       " 'distributionType': 'domain(1,int(64),false)',\n",
       " 'LocaleConfigs': [{'id': 0,\n",
       "   'name': 'MacBook-Pro-7.local',\n",
       "   'numPUs': 4,\n",
       "   'maxTaskPar': 4,\n",
       "   'physicalMemory': 8589934592}],\n",
       " 'authenticate': False,\n",
       " 'logLevel': 'INFO',\n",
       " 'byteorder': 'little'}"
      ]
     },
     "execution_count": 40,
     "metadata": {},
     "output_type": "execute_result"
    }
   ],
   "source": [
    "cfg"
   ]
  },
  {
   "cell_type": "markdown",
   "metadata": {},
   "source": [
    "# Trial visualization"
   ]
  },
  {
   "cell_type": "code",
   "execution_count": null,
   "metadata": {},
   "outputs": [],
   "source": [
    "countries_list_top_20 = countries_list[:20]\n",
    "fig, ax = plt.subplots(nrows=len(countries_list_top_20), figsize=(12,len(countries_list_top_20)*3.5)) #dynamically set the figure size from the number of subplots. I find that 3.5 is a good height per subplot to see the data"
   ]
  },
  {
   "cell_type": "code",
   "execution_count": null,
   "metadata": {},
   "outputs": [],
   "source": [
    "for i in countries_list_top_20:\n",
    "    ind = countries_list_top_20.index(i) #a trick to get a list of 0 to whatever \n",
    "    filt = df_country_with_cases['Country/Region'] == i #filter the dataframe for each item in the list\n",
    "    \n",
    "    ax[ind].plot(df_country_with_cases.loc[filt]['Date'],df_country_with_cases.loc[filt]['Number of Cases']) #plotting the filtered dataframe. The brackets make the axis variable dynamic\n",
    "    ax[ind].set_title(i, size=25) #here I am setting the title of each subplot to be the category\n",
    "    ax[ind].set_ylabel('Number of Cases', size=15) #setting the ylabel and font size\n",
    "    ax[ind].xaxis.set_tick_params(labelsize=15) #setting the font size of the x axis\n",
    "    ax[ind].yaxis.set_tick_params(labelsize=15) #setting the font size of the y axis\n",
    "    \n",
    "    #Optionally add data labels or text to the subplots\n",
    "    cases_yesterday_filter = (df_country_with_cases['Date'] == df_country_with_cases['Date'].max()) & (df_country_with_cases['Country/Region'] == i) #filter to find the latest data point for the respective country\n",
    "    cases_yesterday = df_country_with_cases.loc[cases_yesterday_filter].iloc[0]['Number of Cases'] #applying the filter to the dataframe\n",
    "    ax[ind].annotate(str(cases_yesterday), xy=(df_country_with_cases['Date'].max(),cases_yesterday),xycoords = 'data', ha ='left', va='top', fontsize =15) #adding the datapoint to the subplot\n"
   ]
  },
  {
   "cell_type": "code",
   "execution_count": null,
   "metadata": {},
   "outputs": [],
   "source": [
    "plt.tight_layout()"
   ]
  },
  {
   "cell_type": "code",
   "execution_count": null,
   "metadata": {},
   "outputs": [],
   "source": [
    "\n"
   ]
  },
  {
   "cell_type": "code",
   "execution_count": null,
   "metadata": {},
   "outputs": [],
   "source": []
  },
  {
   "cell_type": "code",
   "execution_count": null,
   "metadata": {},
   "outputs": [],
   "source": []
  },
  {
   "cell_type": "code",
   "execution_count": null,
   "metadata": {},
   "outputs": [],
   "source": []
  },
  {
   "cell_type": "code",
   "execution_count": null,
   "metadata": {},
   "outputs": [],
   "source": []
  },
  {
   "cell_type": "code",
   "execution_count": null,
   "metadata": {},
   "outputs": [],
   "source": [
    "\n",
    "\n",
    "    \n",
    "    \n",
    "    \n",
    "    "
   ]
  }
 ],
 "metadata": {
  "kernelspec": {
   "display_name": "Python 3",
   "language": "python",
   "name": "python3"
  },
  "language_info": {
   "codemirror_mode": {
    "name": "ipython",
    "version": 3
   },
   "file_extension": ".py",
   "mimetype": "text/x-python",
   "name": "python",
   "nbconvert_exporter": "python",
   "pygments_lexer": "ipython3",
   "version": "3.8.3"
  }
 },
 "nbformat": 4,
 "nbformat_minor": 4
}
